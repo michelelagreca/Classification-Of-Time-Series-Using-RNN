{
 "cells": [
  {
   "cell_type": "code",
   "execution_count": 1,
   "id": "6b429cea",
   "metadata": {
    "execution": {
     "iopub.execute_input": "2022-12-17T18:00:45.559462Z",
     "iopub.status.busy": "2022-12-17T18:00:45.558693Z",
     "iopub.status.idle": "2022-12-17T18:00:45.577891Z",
     "shell.execute_reply": "2022-12-17T18:00:45.576960Z"
    },
    "executionInfo": {
     "elapsed": 2637,
     "status": "ok",
     "timestamp": 1671270514960,
     "user": {
      "displayName": "Andrea Giuffrida",
      "userId": "01201743058689716524"
     },
     "user_tz": -60
    },
    "id": "UwhwoigqynhZ",
    "outputId": "42eb721f-eb4b-4fca-e3dd-83e4aeb3eaa9",
    "papermill": {
     "duration": 0.03665,
     "end_time": "2022-12-17T18:00:45.580893",
     "exception": false,
     "start_time": "2022-12-17T18:00:45.544243",
     "status": "completed"
    },
    "tags": []
   },
   "outputs": [
    {
     "name": "stdout",
     "output_type": "stream",
     "text": [
      "/kaggle/input/an2dlhw2originaldata/y_train.npy\n",
      "/kaggle/input/an2dlhw2originaldata/x_train.npy\n"
     ]
    }
   ],
   "source": [
    "import os\n",
    "for dirname, _, filenames in os.walk('/kaggle/input'):\n",
    "    for filename in filenames:\n",
    "        print(os.path.join(dirname, filename))"
   ]
  },
  {
   "cell_type": "code",
   "execution_count": 2,
   "id": "8eed7c67",
   "metadata": {
    "execution": {
     "iopub.execute_input": "2022-12-17T18:00:45.608383Z",
     "iopub.status.busy": "2022-12-17T18:00:45.607541Z",
     "iopub.status.idle": "2022-12-17T18:00:45.613879Z",
     "shell.execute_reply": "2022-12-17T18:00:45.613053Z"
    },
    "executionInfo": {
     "elapsed": 31,
     "status": "ok",
     "timestamp": 1671270514960,
     "user": {
      "displayName": "Andrea Giuffrida",
      "userId": "01201743058689716524"
     },
     "user_tz": -60
    },
    "id": "tmtVevhC12Ek",
    "outputId": "7968f163-66d7-4faa-c00d-c5a789d8c44e",
    "papermill": {
     "duration": 0.022516,
     "end_time": "2022-12-17T18:00:45.615829",
     "exception": false,
     "start_time": "2022-12-17T18:00:45.593313",
     "status": "completed"
    },
    "tags": []
   },
   "outputs": [],
   "source": [
    "import shutil\n",
    "if os.path.exists(\"/kaggle/working/andrea\"):\n",
    "    shutil.rmtree(\"/kaggle/working/andrea\")\n",
    "\n",
    "# to remove a file\n",
    "if os.path.exists(\"/kaggle/working/model.png\"):\n",
    "    os.remove(\"/kaggle/working/model.png\")\n",
    "    \n",
    "# to create a folder\n",
    "import os\n",
    "directory = \"interpolation\"\n",
    "parent_dir = \"/kaggle/working\"\n",
    "path = os.path.join(parent_dir, directory)\n",
    "if not os.path.exists(path):\n",
    "    os.mkdir(path)"
   ]
  },
  {
   "cell_type": "code",
   "execution_count": 3,
   "id": "21ea62ce",
   "metadata": {
    "execution": {
     "iopub.execute_input": "2022-12-17T18:00:45.640579Z",
     "iopub.status.busy": "2022-12-17T18:00:45.639698Z",
     "iopub.status.idle": "2022-12-17T18:00:57.912671Z",
     "shell.execute_reply": "2022-12-17T18:00:57.911216Z"
    },
    "executionInfo": {
     "elapsed": 30,
     "status": "ok",
     "timestamp": 1671270514961,
     "user": {
      "displayName": "Andrea Giuffrida",
      "userId": "01201743058689716524"
     },
     "user_tz": -60
    },
    "id": "n-k90K0j2Ffz",
    "outputId": "0c51fbe3-8d5b-46a0-a71a-a3473b5d082a",
    "papermill": {
     "duration": 12.287698,
     "end_time": "2022-12-17T18:00:57.915066",
     "exception": false,
     "start_time": "2022-12-17T18:00:45.627368",
     "status": "completed"
    },
    "tags": []
   },
   "outputs": [
    {
     "name": "stdout",
     "output_type": "stream",
     "text": [
      "2.6.4\n"
     ]
    }
   ],
   "source": [
    "import tensorflow as tf\n",
    "import numpy as np\n",
    "import os\n",
    "import random\n",
    "import pandas as pd\n",
    "import seaborn as sns\n",
    "import matplotlib.pyplot as plt\n",
    "plt.rc('font', size=16) \n",
    "from sklearn.metrics import accuracy_score, f1_score, precision_score, recall_score\n",
    "from sklearn.metrics import confusion_matrix\n",
    "from sklearn.preprocessing import MinMaxScaler\n",
    "from sklearn.model_selection import train_test_split\n",
    "from sklearn.utils import resample\n",
    "from sklearn.utils.class_weight import compute_class_weight\n",
    "from sklearn.ensemble import AdaBoostClassifier\n",
    "from imblearn.over_sampling import RandomOverSampler, SMOTE, ADASYN\n",
    "from imblearn.combine import SMOTEENN, SMOTETomek\n",
    "from scipy.interpolate import interp1d\n",
    "import shutil\n",
    "import warnings\n",
    "import logging\n",
    "\n",
    "tfk = tf.keras\n",
    "tfkl = tf.keras.layers\n",
    "print(tf.__version__)"
   ]
  },
  {
   "cell_type": "code",
   "execution_count": 4,
   "id": "b9d63103",
   "metadata": {
    "execution": {
     "iopub.execute_input": "2022-12-17T18:00:57.941140Z",
     "iopub.status.busy": "2022-12-17T18:00:57.939864Z",
     "iopub.status.idle": "2022-12-17T18:00:57.945866Z",
     "shell.execute_reply": "2022-12-17T18:00:57.945052Z"
    },
    "executionInfo": {
     "elapsed": 27,
     "status": "ok",
     "timestamp": 1671270514961,
     "user": {
      "displayName": "Andrea Giuffrida",
      "userId": "01201743058689716524"
     },
     "user_tz": -60
    },
    "id": "n5ej6i4l2JKk",
    "papermill": {
     "duration": 0.020499,
     "end_time": "2022-12-17T18:00:57.947760",
     "exception": false,
     "start_time": "2022-12-17T18:00:57.927261",
     "status": "completed"
    },
    "tags": []
   },
   "outputs": [],
   "source": [
    "# Random seed for reproducibility\n",
    "seed = 42\n",
    "\n",
    "random.seed(seed)\n",
    "os.environ['PYTHONHASHSEED'] = str(seed)\n",
    "np.random.seed(seed)\n",
    "tf.random.set_seed(seed)\n",
    "tf.compat.v1.set_random_seed(seed)"
   ]
  },
  {
   "cell_type": "code",
   "execution_count": 5,
   "id": "bf2b8de4",
   "metadata": {
    "execution": {
     "iopub.execute_input": "2022-12-17T18:00:57.972122Z",
     "iopub.status.busy": "2022-12-17T18:00:57.971348Z",
     "iopub.status.idle": "2022-12-17T18:00:57.976305Z",
     "shell.execute_reply": "2022-12-17T18:00:57.975429Z"
    },
    "executionInfo": {
     "elapsed": 27,
     "status": "ok",
     "timestamp": 1671270514962,
     "user": {
      "displayName": "Andrea Giuffrida",
      "userId": "01201743058689716524"
     },
     "user_tz": -60
    },
    "id": "KiIPwujC9Ue5",
    "papermill": {
     "duration": 0.019078,
     "end_time": "2022-12-17T18:00:57.978234",
     "exception": false,
     "start_time": "2022-12-17T18:00:57.959156",
     "status": "completed"
    },
    "tags": []
   },
   "outputs": [],
   "source": [
    "normalization = 'standard'\n",
    "axis = 2\n",
    "class_weighting = False\n",
    "oversampling = False\n",
    "noise = False\n",
    "bagging = False"
   ]
  },
  {
   "cell_type": "markdown",
   "id": "f327dcba",
   "metadata": {
    "id": "6W7HN96Y65ih",
    "papermill": {
     "duration": 0.011211,
     "end_time": "2022-12-17T18:00:58.000939",
     "exception": false,
     "start_time": "2022-12-17T18:00:57.989728",
     "status": "completed"
    },
    "tags": []
   },
   "source": [
    "# Load and preprocess data"
   ]
  },
  {
   "cell_type": "code",
   "execution_count": 6,
   "id": "99e3db22",
   "metadata": {
    "execution": {
     "iopub.execute_input": "2022-12-17T18:00:58.025658Z",
     "iopub.status.busy": "2022-12-17T18:00:58.024804Z",
     "iopub.status.idle": "2022-12-17T18:00:58.141167Z",
     "shell.execute_reply": "2022-12-17T18:00:58.140259Z"
    },
    "executionInfo": {
     "elapsed": 26,
     "status": "ok",
     "timestamp": 1671270514962,
     "user": {
      "displayName": "Andrea Giuffrida",
      "userId": "01201743058689716524"
     },
     "user_tz": -60
    },
    "id": "vNuMeLDf2Oaq",
    "papermill": {
     "duration": 0.130784,
     "end_time": "2022-12-17T18:00:58.143336",
     "exception": false,
     "start_time": "2022-12-17T18:00:58.012552",
     "status": "completed"
    },
    "tags": []
   },
   "outputs": [],
   "source": [
    "x_file_path = \"/kaggle/input/an2dlhw2originaldata/x_train.npy\"\n",
    "y_file_path = \"/kaggle/input/an2dlhw2originaldata/y_train.npy\"\n",
    "\n",
    "X = np.load(x_file_path)\n",
    "y = np.load(y_file_path)"
   ]
  },
  {
   "cell_type": "code",
   "execution_count": 7,
   "id": "00992b3a",
   "metadata": {
    "execution": {
     "iopub.execute_input": "2022-12-17T18:00:58.169118Z",
     "iopub.status.busy": "2022-12-17T18:00:58.168161Z",
     "iopub.status.idle": "2022-12-17T18:00:58.251022Z",
     "shell.execute_reply": "2022-12-17T18:00:58.249993Z"
    },
    "executionInfo": {
     "elapsed": 26,
     "status": "ok",
     "timestamp": 1671270514962,
     "user": {
      "displayName": "Andrea Giuffrida",
      "userId": "01201743058689716524"
     },
     "user_tz": -60
    },
    "id": "7u6FEVhuC9gr",
    "outputId": "4d54cbde-7862-4c7a-a0f8-9f50013fd329",
    "papermill": {
     "duration": 0.098872,
     "end_time": "2022-12-17T18:00:58.254082",
     "exception": false,
     "start_time": "2022-12-17T18:00:58.155210",
     "status": "completed"
    },
    "tags": []
   },
   "outputs": [
    {
     "data": {
      "text/plain": [
       "(2429, 72, 6)"
      ]
     },
     "execution_count": 7,
     "metadata": {},
     "output_type": "execute_result"
    }
   ],
   "source": [
    "x_axis = np.linspace(0, 36, num=36, endpoint=True)\n",
    "interpolate = interp1d(x_axis, X, kind='cubic', axis=1)\n",
    "x_new = np.linspace(0, 36, num=72, endpoint=True)\n",
    "X = interpolate(x_new)\n",
    "X.shape"
   ]
  },
  {
   "cell_type": "code",
   "execution_count": 8,
   "id": "228ac7b6",
   "metadata": {
    "execution": {
     "iopub.execute_input": "2022-12-17T18:00:58.335951Z",
     "iopub.status.busy": "2022-12-17T18:00:58.335452Z",
     "iopub.status.idle": "2022-12-17T18:00:58.356287Z",
     "shell.execute_reply": "2022-12-17T18:00:58.355399Z"
    },
    "executionInfo": {
     "elapsed": 420,
     "status": "ok",
     "timestamp": 1671270515360,
     "user": {
      "displayName": "Andrea Giuffrida",
      "userId": "01201743058689716524"
     },
     "user_tz": -60
    },
    "id": "fnfDuJ5F3biy",
    "outputId": "7974b8ef-cd1b-4e52-adb7-9480ad6058b0",
    "papermill": {
     "duration": 0.073784,
     "end_time": "2022-12-17T18:00:58.358569",
     "exception": false,
     "start_time": "2022-12-17T18:00:58.284785",
     "status": "completed"
    },
    "tags": []
   },
   "outputs": [
    {
     "data": {
      "text/plain": [
       "((1943, 72, 6), (1943,), (486, 72, 6), (486,))"
      ]
     },
     "execution_count": 8,
     "metadata": {},
     "output_type": "execute_result"
    }
   ],
   "source": [
    "X_train, X_val, y_train, y_val = train_test_split(X, y, test_size=0.2, random_state=seed)\n",
    "n_dimensions = X_train.shape[2]\n",
    "X_train.shape, y_train.shape, X_val.shape, y_val.shape"
   ]
  },
  {
   "cell_type": "code",
   "execution_count": 9,
   "id": "c0b35508",
   "metadata": {
    "execution": {
     "iopub.execute_input": "2022-12-17T18:00:58.384079Z",
     "iopub.status.busy": "2022-12-17T18:00:58.383253Z",
     "iopub.status.idle": "2022-12-17T18:00:58.388336Z",
     "shell.execute_reply": "2022-12-17T18:00:58.387508Z"
    },
    "executionInfo": {
     "elapsed": 12,
     "status": "ok",
     "timestamp": 1671270515361,
     "user": {
      "displayName": "Andrea Giuffrida",
      "userId": "01201743058689716524"
     },
     "user_tz": -60
    },
    "id": "SNX4WLvstRxU",
    "papermill": {
     "duration": 0.019893,
     "end_time": "2022-12-17T18:00:58.390474",
     "exception": false,
     "start_time": "2022-12-17T18:00:58.370581",
     "status": "completed"
    },
    "tags": []
   },
   "outputs": [],
   "source": [
    "label_mapping = {\n",
    "    \"Wish\",\n",
    "    \"Another\",\n",
    "    \"Comfortably\",\n",
    "    \"Money\",\n",
    "    \"Breathe\",\n",
    "    \"Time\",\n",
    "    \"Brain\",\n",
    "    \"Echoes\",\n",
    "    \"Wearing\",\n",
    "    \"Sorrow\",\n",
    "    \"Hey\",\n",
    "    \"Shine\"\n",
    "}"
   ]
  },
  {
   "cell_type": "markdown",
   "id": "fa5955ba",
   "metadata": {
    "id": "G837_K5R7Bdh",
    "papermill": {
     "duration": 0.011547,
     "end_time": "2022-12-17T18:00:58.413858",
     "exception": false,
     "start_time": "2022-12-17T18:00:58.402311",
     "status": "completed"
    },
    "tags": []
   },
   "source": [
    "## Normalization"
   ]
  },
  {
   "cell_type": "code",
   "execution_count": 10,
   "id": "02e22d38",
   "metadata": {
    "execution": {
     "iopub.execute_input": "2022-12-17T18:00:58.438320Z",
     "iopub.status.busy": "2022-12-17T18:00:58.438046Z",
     "iopub.status.idle": "2022-12-17T18:00:58.448465Z",
     "shell.execute_reply": "2022-12-17T18:00:58.447651Z"
    },
    "executionInfo": {
     "elapsed": 12,
     "status": "ok",
     "timestamp": 1671270515361,
     "user": {
      "displayName": "Andrea Giuffrida",
      "userId": "01201743058689716524"
     },
     "user_tz": -60
    },
    "id": "OOGCSx2B_9Ui",
    "papermill": {
     "duration": 0.025172,
     "end_time": "2022-12-17T18:00:58.450590",
     "exception": false,
     "start_time": "2022-12-17T18:00:58.425418",
     "status": "completed"
    },
    "tags": []
   },
   "outputs": [],
   "source": [
    "def normalize(X_train, axis, norm_type='no_norm'):\n",
    "  axs = [0,1,2]\n",
    "  axs.remove(axis)\n",
    "  axs=tuple(axs)\n",
    "\n",
    "  means = np.mean(X_train, axis=axs)\n",
    "  stds = np.std(X_train, axis=axs)\n",
    "  mins = np.min(X_train, axis=axs)\n",
    "  maxs = np.max(X_train, axis=axs)\n",
    "\n",
    "  params = {\n",
    "      \"means\": means,\n",
    "      \"stds\": stds,\n",
    "      \"mins\": mins,\n",
    "      \"maxs\": maxs\n",
    "  }\n",
    "  \n",
    "  if norm_type=='standard':\n",
    "    X_std_train = []\n",
    "    \n",
    "    for i in range(X_train.shape[axis]):\n",
    "      data = np.take(X_train, i, axis=axis)\n",
    "      data = (data - means[i]) / stds[i]\n",
    "      X_std_train.append(data)\n",
    "\n",
    "    X_std_train = tuple(X_std_train)\n",
    "    X_std_train = np.stack(X_std_train, axis=axis)\n",
    "\n",
    "    return X_std_train, params\n",
    "\n",
    "\n",
    "  elif norm_type=='minmax':\n",
    "    X_norm_train = []\n",
    "    \n",
    "    for i in range(X_train.shape[axis]):\n",
    "      data = np.take(X_train, i, axis=axis)\n",
    "      data = (data - mins[i]) / (maxs[i] - mins[i])\n",
    "      X_norm_train.append(data)\n",
    "\n",
    "    X_norm_train = tuple(X_norm_train)\n",
    "    X_norm_train = np.stack(X_norm_train, axis=axis)\n",
    "\n",
    "    return X_norm_train, params\n",
    "\n",
    "  else:\n",
    "    return X_train, params\n",
    "\n",
    "\n"
   ]
  },
  {
   "cell_type": "code",
   "execution_count": 11,
   "id": "4d7b0eda",
   "metadata": {
    "execution": {
     "iopub.execute_input": "2022-12-17T18:00:58.475576Z",
     "iopub.status.busy": "2022-12-17T18:00:58.475314Z",
     "iopub.status.idle": "2022-12-17T18:00:58.483155Z",
     "shell.execute_reply": "2022-12-17T18:00:58.482162Z"
    },
    "executionInfo": {
     "elapsed": 12,
     "status": "ok",
     "timestamp": 1671270515362,
     "user": {
      "displayName": "Andrea Giuffrida",
      "userId": "01201743058689716524"
     },
     "user_tz": -60
    },
    "id": "FSL8OzXZRlYC",
    "papermill": {
     "duration": 0.022485,
     "end_time": "2022-12-17T18:00:58.485057",
     "exception": false,
     "start_time": "2022-12-17T18:00:58.462572",
     "status": "completed"
    },
    "tags": []
   },
   "outputs": [],
   "source": [
    "def normalize_test(X, params, axis, norm_type='no_norm'):\n",
    "  \n",
    "  if norm_type=='standard':\n",
    "    X_std_val = []\n",
    "\n",
    "    means = params[\"means\"]\n",
    "    stds = params[\"stds\"]\n",
    "    mins = params[\"mins\"]\n",
    "    maxs = params[\"maxs\"]\n",
    "\n",
    "    for i in range(X.shape[axis]):\n",
    "      data = np.take(X, i, axis=axis)\n",
    "      data = (data - means[i]) / stds[i]\n",
    "      X_std_val.append(data)\n",
    "\n",
    "    X_std_val = tuple(X_std_val)\n",
    "    X_std_val = np.stack(X_std_val, axis=axis)\n",
    "\n",
    "    return X_std_val\n",
    "\n",
    "  elif norm_type=='minmax':\n",
    "    X_norm_val = []\n",
    "    \n",
    "    for i in range(X.shape[axis]):\n",
    "      data = np.take(X, i, axis=axis)\n",
    "      data = (data - mins[i]) / (maxs[i] - min)\n",
    "      X_norm_val.append(data)\n",
    "\n",
    "    X_norm_val = tuple(X_norm_val)\n",
    "    X_norm_val = np.stack(X_norm_val, axis=axis)\n",
    "\n",
    "    return X_norm_val\n",
    "\n",
    "  else:\n",
    "    return X"
   ]
  },
  {
   "cell_type": "code",
   "execution_count": 12,
   "id": "b299abc5",
   "metadata": {
    "execution": {
     "iopub.execute_input": "2022-12-17T18:00:58.510913Z",
     "iopub.status.busy": "2022-12-17T18:00:58.510144Z",
     "iopub.status.idle": "2022-12-17T18:00:58.561203Z",
     "shell.execute_reply": "2022-12-17T18:00:58.560230Z"
    },
    "executionInfo": {
     "elapsed": 11,
     "status": "ok",
     "timestamp": 1671270515362,
     "user": {
      "displayName": "Andrea Giuffrida",
      "userId": "01201743058689716524"
     },
     "user_tz": -60
    },
    "id": "3XlGDA5_GiCb",
    "papermill": {
     "duration": 0.06631,
     "end_time": "2022-12-17T18:00:58.563739",
     "exception": false,
     "start_time": "2022-12-17T18:00:58.497429",
     "status": "completed"
    },
    "tags": []
   },
   "outputs": [],
   "source": [
    "X_train_no_norm = X_train\n",
    "X_train, p = normalize(X_train, axis, norm_type=normalization)\n",
    "X_val = normalize_test(X_val, p, axis, norm_type=normalization)"
   ]
  },
  {
   "cell_type": "markdown",
   "id": "1e8ca00b",
   "metadata": {
    "id": "aC5bVFqz7JG9",
    "papermill": {
     "duration": 0.011843,
     "end_time": "2022-12-17T18:00:58.587837",
     "exception": false,
     "start_time": "2022-12-17T18:00:58.575994",
     "status": "completed"
    },
    "tags": []
   },
   "source": [
    "## Comput class weights"
   ]
  },
  {
   "cell_type": "code",
   "execution_count": 13,
   "id": "13529795",
   "metadata": {
    "execution": {
     "iopub.execute_input": "2022-12-17T18:00:58.613097Z",
     "iopub.status.busy": "2022-12-17T18:00:58.612287Z",
     "iopub.status.idle": "2022-12-17T18:00:58.618126Z",
     "shell.execute_reply": "2022-12-17T18:00:58.617223Z"
    },
    "executionInfo": {
     "elapsed": 12,
     "status": "ok",
     "timestamp": 1671270515363,
     "user": {
      "displayName": "Andrea Giuffrida",
      "userId": "01201743058689716524"
     },
     "user_tz": -60
    },
    "id": "Oibh_HvTWT3S",
    "papermill": {
     "duration": 0.020586,
     "end_time": "2022-12-17T18:00:58.620271",
     "exception": false,
     "start_time": "2022-12-17T18:00:58.599685",
     "status": "completed"
    },
    "tags": []
   },
   "outputs": [],
   "source": [
    "if class_weighting:\n",
    "  class_weights = compute_class_weight(class_weight='balanced', classes=np.unique(y), y=y)\n",
    "\n",
    "  fig = plt.figure(figsize=(21, 5))\n",
    "  plt.bar(np.arange(12), class_weights, width=1, edgecolor=\"white\", tick_label=list(label_mapping))\n",
    "  plt.show()"
   ]
  },
  {
   "cell_type": "code",
   "execution_count": 14,
   "id": "aaf21f92",
   "metadata": {
    "execution": {
     "iopub.execute_input": "2022-12-17T18:00:58.644459Z",
     "iopub.status.busy": "2022-12-17T18:00:58.643717Z",
     "iopub.status.idle": "2022-12-17T18:00:58.648271Z",
     "shell.execute_reply": "2022-12-17T18:00:58.647375Z"
    },
    "executionInfo": {
     "elapsed": 11,
     "status": "ok",
     "timestamp": 1671270515363,
     "user": {
      "displayName": "Andrea Giuffrida",
      "userId": "01201743058689716524"
     },
     "user_tz": -60
    },
    "id": "-KK4glI5wgLU",
    "papermill": {
     "duration": 0.018768,
     "end_time": "2022-12-17T18:00:58.650379",
     "exception": false,
     "start_time": "2022-12-17T18:00:58.631611",
     "status": "completed"
    },
    "tags": []
   },
   "outputs": [],
   "source": [
    "if class_weighting:\n",
    "  class_weights = dict(zip(np.arange(12), class_weights))\n",
    "  class_weights"
   ]
  },
  {
   "cell_type": "markdown",
   "id": "efe31407",
   "metadata": {
    "id": "T3Ne3mUq7OWL",
    "papermill": {
     "duration": 0.011207,
     "end_time": "2022-12-17T18:00:58.672991",
     "exception": false,
     "start_time": "2022-12-17T18:00:58.661784",
     "status": "completed"
    },
    "tags": []
   },
   "source": [
    "## Random oversampling and undersampling"
   ]
  },
  {
   "cell_type": "code",
   "execution_count": 15,
   "id": "1d856691",
   "metadata": {
    "execution": {
     "iopub.execute_input": "2022-12-17T18:00:58.696818Z",
     "iopub.status.busy": "2022-12-17T18:00:58.696563Z",
     "iopub.status.idle": "2022-12-17T18:00:58.703554Z",
     "shell.execute_reply": "2022-12-17T18:00:58.702553Z"
    },
    "executionInfo": {
     "elapsed": 760,
     "status": "ok",
     "timestamp": 1671270516112,
     "user": {
      "displayName": "Andrea Giuffrida",
      "userId": "01201743058689716524"
     },
     "user_tz": -60
    },
    "id": "eGve4BFmzciQ",
    "papermill": {
     "duration": 0.021477,
     "end_time": "2022-12-17T18:00:58.705844",
     "exception": false,
     "start_time": "2022-12-17T18:00:58.684367",
     "status": "completed"
    },
    "tags": []
   },
   "outputs": [],
   "source": [
    "if oversampling:\n",
    "  ros = RandomOverSampler(random_state=seed)\n",
    "  smote = SMOTE(random_state=seed)\n",
    "  adasyn = ADASYN(random_state=seed)\n",
    "  smoteenn = SMOTEENN(random_state=seed)\n",
    "  smote_tomek = SMOTETomek(random_state=seed)\n",
    "\n",
    "  if noise:\n",
    "    X_train = X_train_no_norm\n",
    "\n",
    "  X1 = []\n",
    "\n",
    "  for dim in range(n_dimensions):\n",
    "    X_dim = X_train[:,:,dim]\n",
    "    X1.append(X_dim)\n",
    "\n",
    "  X1 = np.concatenate(X1, axis=1)\n",
    "  X_ros, y_ros = adasyn.fit_resample(X1, y_train)\n",
    "  X_ros = np.reshape(X_ros, (X_ros.shape[0], X_train.shape[1], X_train.shape[2]), order='F')\n",
    "  X_train, y_train = X_ros, y_ros"
   ]
  },
  {
   "cell_type": "code",
   "execution_count": 16,
   "id": "91adb596",
   "metadata": {
    "execution": {
     "iopub.execute_input": "2022-12-17T18:00:58.730386Z",
     "iopub.status.busy": "2022-12-17T18:00:58.729560Z",
     "iopub.status.idle": "2022-12-17T18:00:58.734766Z",
     "shell.execute_reply": "2022-12-17T18:00:58.733921Z"
    },
    "executionInfo": {
     "elapsed": 34,
     "status": "ok",
     "timestamp": 1671270516112,
     "user": {
      "displayName": "Andrea Giuffrida",
      "userId": "01201743058689716524"
     },
     "user_tz": -60
    },
    "id": "2Dj6bi_E6nQt",
    "outputId": "1c19d45a-9d38-4c88-ce08-bdc093e8d7b9",
    "papermill": {
     "duration": 0.019455,
     "end_time": "2022-12-17T18:00:58.736686",
     "exception": false,
     "start_time": "2022-12-17T18:00:58.717231",
     "status": "completed"
    },
    "tags": []
   },
   "outputs": [],
   "source": [
    "if oversampling:\n",
    "  plt.bar(np.arange(12), np.argmax(y_ros), width=1, edgecolor=\"white\", tick_label=list(np.arange(12)))\n",
    "  plt.show()"
   ]
  },
  {
   "cell_type": "code",
   "execution_count": 17,
   "id": "069c9a95",
   "metadata": {
    "execution": {
     "iopub.execute_input": "2022-12-17T18:00:58.760905Z",
     "iopub.status.busy": "2022-12-17T18:00:58.760653Z",
     "iopub.status.idle": "2022-12-17T18:00:58.769118Z",
     "shell.execute_reply": "2022-12-17T18:00:58.768180Z"
    },
    "executionInfo": {
     "elapsed": 31,
     "status": "ok",
     "timestamp": 1671270516112,
     "user": {
      "displayName": "Andrea Giuffrida",
      "userId": "01201743058689716524"
     },
     "user_tz": -60
    },
    "id": "2hBm94TJeJLg",
    "papermill": {
     "duration": 0.022814,
     "end_time": "2022-12-17T18:00:58.771168",
     "exception": false,
     "start_time": "2022-12-17T18:00:58.748354",
     "status": "completed"
    },
    "tags": []
   },
   "outputs": [],
   "source": [
    "class AWGNTrain(tfk.utils.Sequence):\n",
    "    def __init__(self, x_set, y_set, batch_size):\n",
    "        self.x_original, self.y = x_set, y_set\n",
    "        self.batch_size = batch_size\n",
    "        self.epoch = 0\n",
    "\n",
    "        noise = np.random.normal(0,1, size=self.x_original.shape)\n",
    "        self.x = self.x_original + noise\n",
    "        self.x, _ = normalize(self.x, axis, norm_type=normalization)\n",
    "\n",
    "        x_norm, _ = normalize(self.x_original, axis=2, norm_type='standard')\n",
    "\n",
    "    def __len__(self):\n",
    "        return int(np.ceil(len(self.x) / float(self.batch_size)))\n",
    "\n",
    "    def __getitem__(self, idx):\n",
    "        batch_x = self.x[idx * self.batch_size:(idx + 1) * self.batch_size]\n",
    "        batch_y = self.y[idx * self.batch_size:(idx + 1) * self.batch_size]\n",
    "\n",
    "        return np.array(batch_x), np.array(batch_y)\n",
    "\n",
    "    def on_epoch_end(self):\n",
    "        noise = np.random.normal(0,1, size=self.x_original.shape)\n",
    "        self.x = self.x_original + noise\n",
    "        self.x, _ = normalize(self.x, axis, norm_type=normalization)\n",
    "\n",
    "        self.epoch += 1"
   ]
  },
  {
   "cell_type": "markdown",
   "id": "a8bbb784",
   "metadata": {
    "id": "lmgVqmDvPUhA",
    "papermill": {
     "duration": 0.01114,
     "end_time": "2022-12-17T18:00:58.793671",
     "exception": false,
     "start_time": "2022-12-17T18:00:58.782531",
     "status": "completed"
    },
    "tags": []
   },
   "source": [
    "# To categorical data"
   ]
  },
  {
   "cell_type": "code",
   "execution_count": 18,
   "id": "754a560e",
   "metadata": {
    "execution": {
     "iopub.execute_input": "2022-12-17T18:00:58.819067Z",
     "iopub.status.busy": "2022-12-17T18:00:58.818737Z",
     "iopub.status.idle": "2022-12-17T18:00:58.826476Z",
     "shell.execute_reply": "2022-12-17T18:00:58.825391Z"
    },
    "executionInfo": {
     "elapsed": 32,
     "status": "ok",
     "timestamp": 1671270516113,
     "user": {
      "displayName": "Andrea Giuffrida",
      "userId": "01201743058689716524"
     },
     "user_tz": -60
    },
    "id": "uNrIag6w4TE8",
    "outputId": "6227a414-c63b-4308-df98-85ee1b915c57",
    "papermill": {
     "duration": 0.022457,
     "end_time": "2022-12-17T18:00:58.828598",
     "exception": false,
     "start_time": "2022-12-17T18:00:58.806141",
     "status": "completed"
    },
    "tags": []
   },
   "outputs": [
    {
     "data": {
      "text/plain": [
       "((1943, 12), (486, 12))"
      ]
     },
     "execution_count": 18,
     "metadata": {},
     "output_type": "execute_result"
    }
   ],
   "source": [
    "y_train = tfk.utils.to_categorical(y_train)\n",
    "y_val = tfk.utils.to_categorical(y_val)\n",
    "y_train.shape, y_val.shape"
   ]
  },
  {
   "cell_type": "code",
   "execution_count": 19,
   "id": "5e77a60f",
   "metadata": {
    "execution": {
     "iopub.execute_input": "2022-12-17T18:00:58.853834Z",
     "iopub.status.busy": "2022-12-17T18:00:58.853072Z",
     "iopub.status.idle": "2022-12-17T18:00:58.859752Z",
     "shell.execute_reply": "2022-12-17T18:00:58.858658Z"
    },
    "executionInfo": {
     "elapsed": 29,
     "status": "ok",
     "timestamp": 1671270516113,
     "user": {
      "displayName": "Andrea Giuffrida",
      "userId": "01201743058689716524"
     },
     "user_tz": -60
    },
    "id": "_P7otpOk5_lg",
    "outputId": "1af9f588-796e-4b14-98ef-dadf6d4eb5f0",
    "papermill": {
     "duration": 0.021211,
     "end_time": "2022-12-17T18:00:58.861762",
     "exception": false,
     "start_time": "2022-12-17T18:00:58.840551",
     "status": "completed"
    },
    "tags": []
   },
   "outputs": [
    {
     "data": {
      "text/plain": [
       "((1943, 72, 6), (1943, 12))"
      ]
     },
     "execution_count": 19,
     "metadata": {},
     "output_type": "execute_result"
    }
   ],
   "source": [
    "X_train.shape, y_train.shape"
   ]
  },
  {
   "cell_type": "markdown",
   "id": "f86bdd80",
   "metadata": {
    "id": "UGrY1hV97cG1",
    "papermill": {
     "duration": 0.011545,
     "end_time": "2022-12-17T18:00:58.885261",
     "exception": false,
     "start_time": "2022-12-17T18:00:58.873716",
     "status": "completed"
    },
    "tags": []
   },
   "source": [
    "# Utility function and classes definitions"
   ]
  },
  {
   "cell_type": "code",
   "execution_count": 20,
   "id": "b98387db",
   "metadata": {
    "execution": {
     "iopub.execute_input": "2022-12-17T18:00:58.910492Z",
     "iopub.status.busy": "2022-12-17T18:00:58.909595Z",
     "iopub.status.idle": "2022-12-17T18:00:58.918313Z",
     "shell.execute_reply": "2022-12-17T18:00:58.917503Z"
    },
    "executionInfo": {
     "elapsed": 27,
     "status": "ok",
     "timestamp": 1671270516114,
     "user": {
      "displayName": "Andrea Giuffrida",
      "userId": "01201743058689716524"
     },
     "user_tz": -60
    },
    "id": "PDXHXweV1yKA",
    "papermill": {
     "duration": 0.023688,
     "end_time": "2022-12-17T18:00:58.920565",
     "exception": false,
     "start_time": "2022-12-17T18:00:58.896877",
     "status": "completed"
    },
    "tags": []
   },
   "outputs": [],
   "source": [
    "# Utility function to create folders and callbacks for training\n",
    "from datetime import datetime\n",
    "\n",
    "def create_folders_and_callbacks(model_name, experiments_name):\n",
    "\n",
    "  exps_dir = os.path.join(experiments_name)\n",
    "  if not os.path.exists(exps_dir):\n",
    "      os.makedirs(exps_dir)\n",
    "\n",
    "  now = datetime.now().strftime('%b%d_%H-%M-%S')\n",
    "\n",
    "  exp_dir = os.path.join(exps_dir, model_name + '_' + str(now))\n",
    "  if not os.path.exists(exp_dir):\n",
    "      os.makedirs(exp_dir)\n",
    "      \n",
    "  callbacks = []\n",
    "\n",
    "  # Model checkpoint\n",
    "  # ----------------\n",
    "  ckpt_dir = os.path.join(exp_dir, 'ckpts')\n",
    "  if not os.path.exists(ckpt_dir):\n",
    "      os.makedirs(ckpt_dir)\n",
    "\n",
    "  ckpt_callback = tf.keras.callbacks.ModelCheckpoint(filepath=os.path.join(ckpt_dir, 'cp.ckpt'), \n",
    "                                                     save_weights_only=True, # True to save only weights\n",
    "                                                     save_best_only=False) # True to save only the best epoch \n",
    "  callbacks.append(ckpt_callback)\n",
    "\n",
    "  # Visualize Learning on Tensorboard\n",
    "  # ---------------------------------\n",
    "  tb_dir = os.path.join(exp_dir, 'tb_logs')\n",
    "  if not os.path.exists(tb_dir):\n",
    "      os.makedirs(tb_dir)\n",
    "      \n",
    "  # By default shows losses and metrics for both training and validation\n",
    "  tb_callback = tf.keras.callbacks.TensorBoard(log_dir=tb_dir, \n",
    "                                               profile_batch=0,\n",
    "                                               histogram_freq=1)  # if > 0 (epochs) shows weights histograms\n",
    "  callbacks.append(tb_callback)\n",
    "\n",
    "  return callbacks"
   ]
  },
  {
   "cell_type": "markdown",
   "id": "a1e4dcc5",
   "metadata": {
    "id": "jaCbGpAT7oM3",
    "papermill": {
     "duration": 0.011719,
     "end_time": "2022-12-17T18:00:58.943984",
     "exception": false,
     "start_time": "2022-12-17T18:00:58.932265",
     "status": "completed"
    },
    "tags": []
   },
   "source": [
    "# Model building function"
   ]
  },
  {
   "cell_type": "code",
   "execution_count": 21,
   "id": "787e5e39",
   "metadata": {
    "execution": {
     "iopub.execute_input": "2022-12-17T18:00:58.968763Z",
     "iopub.status.busy": "2022-12-17T18:00:58.968508Z",
     "iopub.status.idle": "2022-12-17T18:00:58.972760Z",
     "shell.execute_reply": "2022-12-17T18:00:58.971782Z"
    },
    "papermill": {
     "duration": 0.018689,
     "end_time": "2022-12-17T18:00:58.974685",
     "exception": false,
     "start_time": "2022-12-17T18:00:58.955996",
     "status": "completed"
    },
    "tags": []
   },
   "outputs": [],
   "source": [
    "model_name = \"Conv1D_Interpolation\""
   ]
  },
  {
   "cell_type": "code",
   "execution_count": 22,
   "id": "f69672f3",
   "metadata": {
    "execution": {
     "iopub.execute_input": "2022-12-17T18:00:58.999295Z",
     "iopub.status.busy": "2022-12-17T18:00:58.998993Z",
     "iopub.status.idle": "2022-12-17T18:00:59.009821Z",
     "shell.execute_reply": "2022-12-17T18:00:59.008891Z"
    },
    "executionInfo": {
     "elapsed": 27,
     "status": "ok",
     "timestamp": 1671270516114,
     "user": {
      "displayName": "Andrea Giuffrida",
      "userId": "01201743058689716524"
     },
     "user_tz": -60
    },
    "id": "rdf8sESK54il",
    "papermill": {
     "duration": 0.025223,
     "end_time": "2022-12-17T18:00:59.011892",
     "exception": false,
     "start_time": "2022-12-17T18:00:58.986669",
     "status": "completed"
    },
    "tags": []
   },
   "outputs": [],
   "source": [
    "def build_classifier(input_shape=X_train.shape[1:], classes=y.shape[-1], model_name=model_name, lr=0.001):\n",
    "    # Build the neural network layer by layer\n",
    "    input_layer = tfkl.Input(shape=input_shape, name='Input')\n",
    "\n",
    "    # Feature extractor\n",
    "    cnn1 = tfkl.Conv1D(128,3,padding='same',activation='relu')(input_layer)\n",
    "    cnn2 = tfkl.Conv1D(128,3,padding='same',activation='relu')(cnn1)\n",
    "    cnn = tfkl.Add()([cnn1, cnn2])\n",
    "    cnn = tfkl.MaxPooling1D()(cnn)\n",
    "    \n",
    "    cnn1 = tfkl.Conv1D(256,3,padding='same',activation='relu')(cnn)\n",
    "    cnn2 = tfkl.Conv1D(256,3,padding='same',activation='relu')(cnn1)\n",
    "    cnn = tfkl.Add()([cnn1, cnn2])\n",
    "    cnn = tfkl.MaxPooling1D()(cnn)\n",
    "\n",
    "    cnn1 = tfkl.Conv1D(256,3,padding='same',activation='relu')(cnn)\n",
    "    cnn2 = tfkl.Conv1D(256,3,padding='same',activation='relu')(cnn1)\n",
    "    cnn = tfkl.Add()([cnn1, cnn2])\n",
    "    cnn = tfkl.MaxPooling1D()(cnn)\n",
    "\n",
    "    gap = tfkl.GlobalAveragePooling1D()(cnn)\n",
    "    #gap = tfkl.Dropout(0.4, seed=seed)(gap)\n",
    "\n",
    "    # Classifier\n",
    "    classifier = tfkl.Dense(256, activation='relu')(gap)\n",
    "    #classifier = tfkl.Dropout(0.4, seed=seed)(classifier)\n",
    "    \n",
    "    output_layer = tfkl.Dense(12, activation='softmax')(classifier)\n",
    "\n",
    "    # Connect input and output through the Model class\n",
    "    model = tfk.Model(inputs=input_layer, outputs=output_layer, name=model_name)\n",
    "\n",
    "    # Compile the model\n",
    "    model.compile(loss=tfk.losses.CategoricalCrossentropy(), optimizer=tfk.optimizers.Adam(lr), metrics='accuracy')\n",
    "\n",
    "    # Return the model\n",
    "    return model"
   ]
  },
  {
   "cell_type": "markdown",
   "id": "2f396ebc",
   "metadata": {
    "id": "DG0EFCN77hhx",
    "papermill": {
     "duration": 0.011949,
     "end_time": "2022-12-17T18:00:59.035739",
     "exception": false,
     "start_time": "2022-12-17T18:00:59.023790",
     "status": "completed"
    },
    "tags": []
   },
   "source": [
    "# Parameters for training"
   ]
  },
  {
   "cell_type": "code",
   "execution_count": 23,
   "id": "5952eed2",
   "metadata": {
    "execution": {
     "iopub.execute_input": "2022-12-17T18:00:59.061140Z",
     "iopub.status.busy": "2022-12-17T18:00:59.060232Z",
     "iopub.status.idle": "2022-12-17T18:00:59.066172Z",
     "shell.execute_reply": "2022-12-17T18:00:59.065210Z"
    },
    "executionInfo": {
     "elapsed": 26,
     "status": "ok",
     "timestamp": 1671270516114,
     "user": {
      "displayName": "Andrea Giuffrida",
      "userId": "01201743058689716524"
     },
     "user_tz": -60
    },
    "id": "XUpE4LS95t-b",
    "papermill": {
     "duration": 0.020561,
     "end_time": "2022-12-17T18:00:59.068186",
     "exception": false,
     "start_time": "2022-12-17T18:00:59.047625",
     "status": "completed"
    },
    "tags": []
   },
   "outputs": [],
   "source": [
    "model_name = \"Conv1D_Interpolation\"\n",
    "experiments_name = \"Conv1D_with_Interpolation\"\n",
    "\n",
    "n_splits = 20\n",
    "\n",
    "input_shape = X_train.shape[1:]\n",
    "classes = y_train.shape[-1]\n",
    "batch_size = 128\n",
    "epochs = 200\n",
    "\n",
    "patience1 = 20\n",
    "patience_plateau = 5\n",
    "min_lr = 1e-5\n",
    "lr_factor = 0.5"
   ]
  },
  {
   "cell_type": "markdown",
   "id": "c9f47f81",
   "metadata": {
    "id": "_5s1kBgrYN5R",
    "papermill": {
     "duration": 0.011519,
     "end_time": "2022-12-17T18:00:59.091499",
     "exception": false,
     "start_time": "2022-12-17T18:00:59.079980",
     "status": "completed"
    },
    "tags": []
   },
   "source": [
    "# Bagging class definition"
   ]
  },
  {
   "cell_type": "code",
   "execution_count": 24,
   "id": "55646b3a",
   "metadata": {
    "execution": {
     "iopub.execute_input": "2022-12-17T18:00:59.117912Z",
     "iopub.status.busy": "2022-12-17T18:00:59.117219Z",
     "iopub.status.idle": "2022-12-17T18:00:59.135158Z",
     "shell.execute_reply": "2022-12-17T18:00:59.134291Z"
    },
    "executionInfo": {
     "elapsed": 27,
     "status": "ok",
     "timestamp": 1671270516115,
     "user": {
      "displayName": "Andrea Giuffrida",
      "userId": "01201743058689716524"
     },
     "user_tz": -60
    },
    "id": "lQ8BndGTBGBk",
    "papermill": {
     "duration": 0.033605,
     "end_time": "2022-12-17T18:00:59.137176",
     "exception": false,
     "start_time": "2022-12-17T18:00:59.103571",
     "status": "completed"
    },
    "tags": []
   },
   "outputs": [],
   "source": [
    "class BaggingModel(tfk.Model):\n",
    "  def __init__(self, n_splits, inp, classes, model_name):\n",
    "    super().__init__()\n",
    "    self.n_splits = n_splits\n",
    "    self.inp = inp\n",
    "    self.classes = classes\n",
    "    self.model_name = model_name\n",
    "    self.models = []\n",
    "    for i in range(self.n_splits):\n",
    "      name = model_name + str(i)\n",
    "      self.models.append(build_classifier(self.inp, self.classes, name))\n",
    "\n",
    "  def fit(self,\n",
    "    x=None,\n",
    "    y=None,\n",
    "    batch_size=None,\n",
    "    epochs=1,\n",
    "    verbose='auto',\n",
    "    callbacks=None,\n",
    "    validation_split=0.0,\n",
    "    validation_data=None,\n",
    "    shuffle=True,\n",
    "    class_weight=None,\n",
    "    sample_weight=None,\n",
    "    initial_epoch=0,\n",
    "    steps_per_epoch=None,\n",
    "    validation_steps=None,\n",
    "    validation_batch_size=None,\n",
    "    validation_freq=1,\n",
    "    max_queue_size=10,\n",
    "    workers=1,\n",
    "    use_multiprocessing=False):\n",
    "\n",
    "\n",
    "    for i, model in enumerate(self.models):  \n",
    "      # multiple train-test splits\n",
    "      scores = []\n",
    "      n_samples = x.shape[0]\n",
    "\n",
    "      # select indexes\n",
    "      ix = [i for i in range(n_samples)]\n",
    "      train_ix = resample(ix, replace=True, n_samples=n_samples)\n",
    "      test_ix = [x for x in ix if x not in train_ix]\n",
    "\n",
    "      # select data\n",
    "      X_train, y_train = tf.gather(x, indices=train_ix), y[train_ix]\n",
    "      X_test, y_test = tf.gather(x, indices=test_ix), y[test_ix]\n",
    "\n",
    "      # train model\n",
    "      print(\"Training of model \", str(i))\n",
    "      history = model.fit(\n",
    "        x = X_train,\n",
    "        y = y_train,\n",
    "        batch_size = batch_size,\n",
    "        epochs = epochs,\n",
    "        validation_data=(X_test, y_test),\n",
    "        callbacks = callbacks,\n",
    "        shuffle = shuffle\n",
    "      ).history\n",
    "      print()\n",
    "\n",
    "      score = model.evaluate(X_test, y_test)\n",
    "      scores.append(score)\n",
    "    \n",
    "    print(\"Validation scores for each model:\")\n",
    "\n",
    "    for i, score in enumerate(scores):\n",
    "      print(\"Score of model \", str(i))\n",
    "      print(score)\n",
    "      print()\n",
    "        \n",
    "\n",
    "\n",
    "  def predict(self, x):\n",
    "    # make predictions\n",
    "    yhats = [model.predict(x) for model in self.models]\n",
    "    \n",
    "    yhats = np.array(yhats)\n",
    "   \n",
    "    # sum across ensemble members\n",
    "    summed = np.sum(yhats, axis=0)\n",
    "\n",
    "    # argmax across classes\n",
    "    result = np.argmax(summed, axis=1)\n",
    "\n",
    "    result = tfk.utils.to_categorical(result)\n",
    "    \n",
    "    # return the result\n",
    "    return result\n",
    "    pass\n",
    "\n",
    "  def save(self,\n",
    "      filepath,\n",
    "      overwrite=True,\n",
    "      include_optimizer=True,\n",
    "      save_format=None,\n",
    "      signatures=None,\n",
    "      options=None,\n",
    "      save_traces=True\n",
    "  ):\n",
    "\n",
    "    parent_dir = filepath\n",
    "    if os.path.exists(parent_dir):\n",
    "            shutil.rmtree(parent_dir)\n",
    "    os.mkdir(parent_dir)\n",
    "\n",
    "    for i, model in enumerate(self.models):\n",
    "      directory = self.model_name + str(i)\n",
    "      path = os.path.join(parent_dir, directory)\n",
    "      if os.path.exists(path):\n",
    "          shutil.rmtree(path)\n",
    "      os.mkdir(path)\n",
    "      model.save(path)\n",
    "\n",
    "  def load(self, filepath):\n",
    "    parent_dir = filepath\n",
    "    for i in range(self.n_splits):\n",
    "      directory = self.model_name + str(i)\n",
    "      path = os.path.join(parent_dir, directory)\n",
    "      if os.path.exists(path):\n",
    "        self.models[i] = tfk.models.load_model(path)\n",
    "\n",
    "    "
   ]
  },
  {
   "cell_type": "markdown",
   "id": "cad061b2",
   "metadata": {
    "id": "Qk7uYg437lM8",
    "papermill": {
     "duration": 0.012182,
     "end_time": "2022-12-17T18:00:59.161761",
     "exception": false,
     "start_time": "2022-12-17T18:00:59.149579",
     "status": "completed"
    },
    "tags": []
   },
   "source": [
    "# Build the model"
   ]
  },
  {
   "cell_type": "code",
   "execution_count": 25,
   "id": "a12fb8a6",
   "metadata": {
    "execution": {
     "iopub.execute_input": "2022-12-17T18:00:59.188177Z",
     "iopub.status.busy": "2022-12-17T18:00:59.187392Z",
     "iopub.status.idle": "2022-12-17T18:00:59.193956Z",
     "shell.execute_reply": "2022-12-17T18:00:59.193019Z"
    },
    "executionInfo": {
     "elapsed": 27,
     "status": "ok",
     "timestamp": 1671270516115,
     "user": {
      "displayName": "Andrea Giuffrida",
      "userId": "01201743058689716524"
     },
     "user_tz": -60
    },
    "id": "MVquiFineZiI",
    "outputId": "7e6511aa-bd4d-4544-b991-6963478f491c",
    "papermill": {
     "duration": 0.021808,
     "end_time": "2022-12-17T18:00:59.196072",
     "exception": false,
     "start_time": "2022-12-17T18:00:59.174264",
     "status": "completed"
    },
    "tags": []
   },
   "outputs": [
    {
     "data": {
      "text/plain": [
       "(1943, 72, 6)"
      ]
     },
     "execution_count": 25,
     "metadata": {},
     "output_type": "execute_result"
    }
   ],
   "source": [
    "X_train.shape"
   ]
  },
  {
   "cell_type": "code",
   "execution_count": 26,
   "id": "2ec5e270",
   "metadata": {
    "execution": {
     "iopub.execute_input": "2022-12-17T18:00:59.221496Z",
     "iopub.status.busy": "2022-12-17T18:00:59.221236Z",
     "iopub.status.idle": "2022-12-17T18:01:04.774882Z",
     "shell.execute_reply": "2022-12-17T18:01:04.773750Z"
    },
    "executionInfo": {
     "elapsed": 420,
     "status": "ok",
     "timestamp": 1671270516511,
     "user": {
      "displayName": "Andrea Giuffrida",
      "userId": "01201743058689716524"
     },
     "user_tz": -60
    },
    "id": "22L0ojTk7XrA",
    "outputId": "392b9089-a426-4cd4-feba-62b6fc757d87",
    "papermill": {
     "duration": 5.570843,
     "end_time": "2022-12-17T18:01:04.779200",
     "exception": false,
     "start_time": "2022-12-17T18:00:59.208357",
     "status": "completed"
    },
    "tags": []
   },
   "outputs": [
    {
     "name": "stderr",
     "output_type": "stream",
     "text": [
      "2022-12-17 18:00:59.384366: I tensorflow/stream_executor/cuda/cuda_gpu_executor.cc:937] successful NUMA node read from SysFS had negative value (-1), but there must be at least one NUMA node, so returning NUMA node zero\n",
      "2022-12-17 18:00:59.385345: I tensorflow/stream_executor/cuda/cuda_gpu_executor.cc:937] successful NUMA node read from SysFS had negative value (-1), but there must be at least one NUMA node, so returning NUMA node zero\n",
      "2022-12-17 18:00:59.662351: I tensorflow/stream_executor/cuda/cuda_gpu_executor.cc:937] successful NUMA node read from SysFS had negative value (-1), but there must be at least one NUMA node, so returning NUMA node zero\n",
      "2022-12-17 18:00:59.663233: I tensorflow/stream_executor/cuda/cuda_gpu_executor.cc:937] successful NUMA node read from SysFS had negative value (-1), but there must be at least one NUMA node, so returning NUMA node zero\n",
      "2022-12-17 18:00:59.664103: I tensorflow/stream_executor/cuda/cuda_gpu_executor.cc:937] successful NUMA node read from SysFS had negative value (-1), but there must be at least one NUMA node, so returning NUMA node zero\n",
      "2022-12-17 18:00:59.664840: I tensorflow/stream_executor/cuda/cuda_gpu_executor.cc:937] successful NUMA node read from SysFS had negative value (-1), but there must be at least one NUMA node, so returning NUMA node zero\n",
      "2022-12-17 18:00:59.666747: I tensorflow/core/platform/cpu_feature_guard.cc:142] This TensorFlow binary is optimized with oneAPI Deep Neural Network Library (oneDNN) to use the following CPU instructions in performance-critical operations:  AVX2 AVX512F FMA\n",
      "To enable them in other operations, rebuild TensorFlow with the appropriate compiler flags.\n",
      "2022-12-17 18:00:59.918383: I tensorflow/stream_executor/cuda/cuda_gpu_executor.cc:937] successful NUMA node read from SysFS had negative value (-1), but there must be at least one NUMA node, so returning NUMA node zero\n",
      "2022-12-17 18:00:59.919302: I tensorflow/stream_executor/cuda/cuda_gpu_executor.cc:937] successful NUMA node read from SysFS had negative value (-1), but there must be at least one NUMA node, so returning NUMA node zero\n",
      "2022-12-17 18:00:59.920162: I tensorflow/stream_executor/cuda/cuda_gpu_executor.cc:937] successful NUMA node r"
     ]
    },
    {
     "name": "stdout",
     "output_type": "stream",
     "text": [
      "Model: \"Conv1D_Interpolation\"\n",
      "__________________________________________________________________________________________________\n",
      "Layer (type)                    Output Shape         Param #     Connected to                     \n",
      "==================================================================================================\n",
      "Input (InputLayer)              [(None, 72, 6)]      0                                            \n",
      "__________________________________________________________________________________________________\n",
      "conv1d (Conv1D)                 (None, 72, 128)      2432        Input[0][0]                      \n",
      "__________________________________________________________________________________________________\n",
      "conv1d_1 (Conv1D)               (None, 72, 128)      49280       conv1d[0][0]                     \n",
      "__________________________________________________________________________________________________\n",
      "add (Add)                       (None, 72, 128)      0           conv1d[0][0]                     \n",
      "                                                                 conv1d_1[0][0]                   \n",
      "__________________________________________________________________________________________________\n",
      "max_pooling1d (MaxPooling1D)    (None, 36, 128)      0           add[0][0]                        \n",
      "__________________________________________________________________________________________________\n",
      "conv1d_2 (Conv1D)               (None, 36, 256)      98560       max_pooling1d[0][0]              \n",
      "__________________________________________________________________________________________________\n",
      "conv1d_3 (Conv1D)               (None, 36, 256)      196864      conv1d_2[0][0]                   \n",
      "__________________________________________________________________________________________________\n",
      "add_1 (Add)                     (None, 36, 256)      0           conv1d_2[0][0]                   \n",
      "                                                                 conv1d_3[0][0]                   \n",
      "__________________________________________________________________________________________________\n",
      "max_pooling1d_1 (MaxPooling1D)  (None, 18, 256)      0           add_1[0][0]                      \n",
      "__________________________________________________________________________________________________\n",
      "conv1d_4 (Conv1D)               (None, 18, 256)      196864      max_pooling1d_1[0][0]            \n",
      "__________________________________________________________________________________________________\n",
      "conv1d_5 (Conv1D)               (None, 18, 256)      196864      conv1d_4[0][0]                   \n",
      "__________________________________________________________________________________________________\n",
      "add_2 (Add)                     (None, 18, 256)      0           conv1d_4[0][0]                   \n",
      "                                                                 conv1d_5[0][0]                   \n",
      "__________________________________________________________________________________________________\n",
      "max_pooling1d_2 (MaxPooling1D)  (None, 9, 256)       0           add_2[0][0]                      \n",
      "__________________________________________________________________________________________________\n",
      "global_average_pooling1d (Globa (None, 256)          0           max_pooling1d_2[0][0]            \n",
      "__________________________________________________________________________________________________\n",
      "dense (Dense)                   (None, 256)          65792       global_average_pooling1d[0][0]   \n",
      "__________________________________________________________________________________________________\n",
      "dense_1 (Dense)                 (None, 12)           3084        dense[0][0]                      \n",
      "==================================================================================================\n",
      "Total params: 809,740\n",
      "Trainable params: 809,740\n",
      "Non-trainable params: 0\n",
      "__________________________________________________________________________________________________\n"
     ]
    },
    {
     "name": "stderr",
     "output_type": "stream",
     "text": [
      "ead from SysFS had negative value (-1), but there must be at least one NUMA node, so returning NUMA node zero\n",
      "2022-12-17 18:00:59.920902: I tensorflow/stream_executor/cuda/cuda_gpu_executor.cc:937] successful NUMA node read from SysFS had negative value (-1), but there must be at least one NUMA node, so returning NUMA node zero\n",
      "2022-12-17 18:00:59.921593: I tensorflow/stream_executor/cuda/cuda_gpu_executor.cc:937] successful NUMA node read from SysFS had negative value (-1), but there must be at least one NUMA node, so returning NUMA node zero\n",
      "2022-12-17 18:00:59.922322: I tensorflow/stream_executor/cuda/cuda_gpu_executor.cc:937] successful NUMA node read from SysFS had negative value (-1), but there must be at least one NUMA node, so returning NUMA node zero\n",
      "2022-12-17 18:01:04.293530: I tensorflow/stream_executor/cuda/cuda_gpu_executor.cc:937] successful NUMA node read from SysFS had negative value (-1), but there must be at least one NUMA node, so returning NUMA node zero\n",
      "2022-12-17 18:01:04.294608: I tensorflow/stream_executor/cuda/cuda_gpu_executor.cc:937] successful NUMA node read from SysFS had negative value (-1), but there must be at least one NUMA node, so returning NUMA node zero\n",
      "2022-12-17 18:01:04.295471: I tensorflow/stream_executor/cuda/cuda_gpu_executor.cc:937] successful NUMA node read from SysFS had negative value (-1), but there must be at least one NUMA node, so returning NUMA node zero\n",
      "2022-12-17 18:01:04.296313: I tensorflow/stream_executor/cuda/cuda_gpu_executor.cc:937] successful NUMA node read from SysFS had negative value (-1), but there must be at least one NUMA node, so returning NUMA node zero\n",
      "2022-12-17 18:01:04.297201: I tensorflow/stream_executor/cuda/cuda_gpu_executor.cc:937] successful NUMA node read from SysFS had negative value (-1), but there must be at least one NUMA node, so returning NUMA node zero\n",
      "2022-12-17 18:01:04.297961: I tensorflow/core/common_runtime/gpu/gpu_device.cc:1510] Created device /job:localhost/replica:0/task:0/device:GPU:0 with 13789 MB memory:  -> device: 0, name: Tesla T4, pci bus id: 0000:00:04.0, compute capability: 7.5\n",
      "2022-12-17 18:01:04.302684: I tensorflow/stream_executor/cuda/cuda_gpu_executor.cc:937] successful NUMA node read from SysFS had negative value (-1), but there must be at least one NUMA node, so returning NUMA node zero\n",
      "2022-12-17 18:01:04.303500: I tensorflow/core/common_runtime/gpu/gpu_device.cc:1510] Created device /job:localhost/replica:0/task:0/device:GPU:1 with 13789 MB memory:  -> device: 1, name: Tesla T4, pci bus id: 0000:00:05.0, compute capability: 7.5\n"
     ]
    }
   ],
   "source": [
    "if not bagging:\n",
    "  model = build_classifier(input_shape, classes, model_name)\n",
    "  model.summary()\n",
    "else:\n",
    "  model = BaggingModel(n_splits, input_shape, classes, model_name)"
   ]
  },
  {
   "cell_type": "code",
   "execution_count": 27,
   "id": "0d725f8d",
   "metadata": {
    "execution": {
     "iopub.execute_input": "2022-12-17T18:01:04.807178Z",
     "iopub.status.busy": "2022-12-17T18:01:04.805697Z",
     "iopub.status.idle": "2022-12-17T18:01:04.814740Z",
     "shell.execute_reply": "2022-12-17T18:01:04.813848Z"
    },
    "papermill": {
     "duration": 0.024285,
     "end_time": "2022-12-17T18:01:04.816733",
     "exception": false,
     "start_time": "2022-12-17T18:01:04.792448",
     "status": "completed"
    },
    "tags": []
   },
   "outputs": [],
   "source": [
    "class MyKerasClassifier(tfk.wrappers.scikit_learn.KerasClassifier):\n",
    "    def fit(self, x, y, sample_weight=None, **kwargs):\n",
    "        if len(y.shape) == 2 and y.shape[1] > 1:\n",
    "            self.classes_ = np.arange(y.shape[1])\n",
    "        elif (len(y.shape) == 2 and y.shape[1] == 1) or len(y.shape) == 1:\n",
    "            self.classes_ = np.unique(y)\n",
    "            y = np.searchsorted(self.classes_, y)\n",
    "        else:\n",
    "            raise ValueError('Invalid shape for y: ' + str(y.shape))\n",
    "        \n",
    "        self.classes_ = np.unique(y)\n",
    "        self.n_classes_ = len(self.classes_)\n",
    "        if sample_weight is not None:\n",
    "            kwargs['sample_weight'] = sample_weight\n",
    "            print(sample_weight)\n",
    "            print(np.unique(y))\n",
    "        return super(MyKerasClassifier, self).fit(x, y, **kwargs)\n",
    "        #return super(KerasClassifier, self).fit(x, y, sample_weight=sample_weight)"
   ]
  },
  {
   "cell_type": "code",
   "execution_count": 28,
   "id": "1282e52b",
   "metadata": {
    "execution": {
     "iopub.execute_input": "2022-12-17T18:01:04.843729Z",
     "iopub.status.busy": "2022-12-17T18:01:04.842338Z",
     "iopub.status.idle": "2022-12-17T18:01:04.847836Z",
     "shell.execute_reply": "2022-12-17T18:01:04.846971Z"
    },
    "papermill": {
     "duration": 0.021065,
     "end_time": "2022-12-17T18:01:04.850148",
     "exception": false,
     "start_time": "2022-12-17T18:01:04.829083",
     "status": "completed"
    },
    "tags": []
   },
   "outputs": [],
   "source": [
    "ann_estimator = MyKerasClassifier(build_fn=build_classifier, epochs=epochs, batch_size=batch_size, verbose=0)\n",
    "clf = AdaBoostClassifier(ann_estimator, n_estimators=1, random_state=seed)"
   ]
  },
  {
   "cell_type": "code",
   "execution_count": 29,
   "id": "a834755b",
   "metadata": {
    "execution": {
     "iopub.execute_input": "2022-12-17T18:01:04.875454Z",
     "iopub.status.busy": "2022-12-17T18:01:04.875179Z",
     "iopub.status.idle": "2022-12-17T18:01:04.882024Z",
     "shell.execute_reply": "2022-12-17T18:01:04.881159Z"
    },
    "papermill": {
     "duration": 0.021806,
     "end_time": "2022-12-17T18:01:04.883994",
     "exception": false,
     "start_time": "2022-12-17T18:01:04.862188",
     "status": "completed"
    },
    "tags": []
   },
   "outputs": [
    {
     "data": {
      "text/plain": [
       "(1943,)"
      ]
     },
     "execution_count": 29,
     "metadata": {},
     "output_type": "execute_result"
    }
   ],
   "source": [
    "if len(y_train.shape) == 2:\n",
    "    y_train = np.argmax(y_train, axis=-1)\n",
    "y_train.shape"
   ]
  },
  {
   "cell_type": "code",
   "execution_count": 30,
   "id": "5765c90a",
   "metadata": {
    "execution": {
     "iopub.execute_input": "2022-12-17T18:01:04.909209Z",
     "iopub.status.busy": "2022-12-17T18:01:04.908915Z",
     "iopub.status.idle": "2022-12-17T18:01:05.154829Z",
     "shell.execute_reply": "2022-12-17T18:01:05.153930Z"
    },
    "papermill": {
     "duration": 0.26092,
     "end_time": "2022-12-17T18:01:05.156959",
     "exception": false,
     "start_time": "2022-12-17T18:01:04.896039",
     "status": "completed"
    },
    "tags": []
   },
   "outputs": [
    {
     "name": "stdout",
     "output_type": "stream",
     "text": [
      "(11,)\n"
     ]
    },
    {
     "data": {
      "text/plain": [
       "(array([132., 206., 300.,  48., 128., 251.,  55., 101., 623.,  99.]),\n",
       " array([ 0. ,  1.1,  2.2,  3.3,  4.4,  5.5,  6.6,  7.7,  8.8,  9.9, 11. ]),\n",
       " <BarContainer object of 10 artists>)"
      ]
     },
     "execution_count": 30,
     "metadata": {},
     "output_type": "execute_result"
    },
    {
     "data": {
      "image/png": "[encoded data removed]",
      "text/plain": [
       "<Figure size 432x288 with 1 Axes>"
      ]
     },
     "metadata": {
      "needs_background": "light"
     },
     "output_type": "display_data"
    }
   ],
   "source": [
    "counts, bins = np.histogram(y_train)\n",
    "print(bins.shape)\n",
    "plt.hist(bins[:-1], bins, weights=counts)"
   ]
  },
  {
   "cell_type": "code",
   "execution_count": 31,
   "id": "f4e2ab24",
   "metadata": {
    "execution": {
     "iopub.execute_input": "2022-12-17T18:01:05.183644Z",
     "iopub.status.busy": "2022-12-17T18:01:05.183363Z",
     "iopub.status.idle": "2022-12-17T18:01:53.505109Z",
     "shell.execute_reply": "2022-12-17T18:01:53.504032Z"
    },
    "papermill": {
     "duration": 48.351278,
     "end_time": "2022-12-17T18:01:53.521043",
     "exception": false,
     "start_time": "2022-12-17T18:01:05.169765",
     "status": "completed"
    },
    "tags": []
   },
   "outputs": [
    {
     "name": "stdout",
     "output_type": "stream",
     "text": [
      "[0.00051467 0.00051467 0.00051467 ... 0.00051467 0.00051467 0.00051467]\n",
      "[ 0  1  2  3  4  5  6  7  8  9 10 11]\n"
     ]
    },
    {
     "name": "stderr",
     "output_type": "stream",
     "text": [
      "2022-12-17 18:01:05.670823: I tensorflow/compiler/mlir/mlir_graph_optimization_pass.cc:185] None of the MLIR Optimization Passes are enabled (registered 2)\n",
      "2022-12-17 18:01:08.252653: I tensorflow/stream_executor/cuda/cuda_dnn.cc:369] Loaded cuDNN version 8005\n"
     ]
    },
    {
     "data": {
      "text/plain": [
       "AdaBoostClassifier(base_estimator=<__main__.MyKerasClassifier object at 0x7fb1fe2ff910>,\n",
       "                   n_estimators=1, random_state=42)"
      ]
     },
     "execution_count": 31,
     "metadata": {},
     "output_type": "execute_result"
    }
   ],
   "source": [
    "clf.fit(X_train, y_train)"
   ]
  },
  {
   "cell_type": "markdown",
   "id": "cc6ab30e",
   "metadata": {
    "id": "GR6aytkW7zWM",
    "papermill": {
     "duration": 0.013135,
     "end_time": "2022-12-17T18:01:53.548289",
     "exception": false,
     "start_time": "2022-12-17T18:01:53.535154",
     "status": "completed"
    },
    "tags": []
   },
   "source": [
    "# Training"
   ]
  },
  {
   "cell_type": "code",
   "execution_count": 32,
   "id": "4a0e1f67",
   "metadata": {
    "execution": {
     "iopub.execute_input": "2022-12-17T18:01:53.577750Z",
     "iopub.status.busy": "2022-12-17T18:01:53.576221Z",
     "iopub.status.idle": "2022-12-17T18:01:53.583550Z",
     "shell.execute_reply": "2022-12-17T18:01:53.582389Z"
    },
    "executionInfo": {
     "elapsed": 13,
     "status": "ok",
     "timestamp": 1671270516511,
     "user": {
      "displayName": "Andrea Giuffrida",
      "userId": "01201743058689716524"
     },
     "user_tz": -60
    },
    "id": "nT65XyW2y1sE",
    "outputId": "6fe544fd-d3e5-4901-ac1a-0044026fcf32",
    "papermill": {
     "duration": 0.024816,
     "end_time": "2022-12-17T18:01:53.586269",
     "exception": false,
     "start_time": "2022-12-17T18:01:53.561453",
     "status": "completed"
    },
    "tags": []
   },
   "outputs": [
    {
     "name": "stdout",
     "output_type": "stream",
     "text": [
      "/kaggle/working/interpolation\n"
     ]
    }
   ],
   "source": [
    "%cd interpolation"
   ]
  },
  {
   "cell_type": "code",
   "execution_count": 33,
   "id": "6556429e",
   "metadata": {
    "execution": {
     "iopub.execute_input": "2022-12-17T18:01:53.614346Z",
     "iopub.status.busy": "2022-12-17T18:01:53.614047Z",
     "iopub.status.idle": "2022-12-17T18:01:53.620605Z",
     "shell.execute_reply": "2022-12-17T18:01:53.619525Z"
    },
    "executionInfo": {
     "elapsed": 37009,
     "status": "error",
     "timestamp": 1671270553511,
     "user": {
      "displayName": "Andrea Giuffrida",
      "userId": "01201743058689716524"
     },
     "user_tz": -60
    },
    "id": "bHCTEUdwjJIN",
    "outputId": "be5c4766-c499-4bcb-81c6-ea5d3f89e295",
    "papermill": {
     "duration": 0.022725,
     "end_time": "2022-12-17T18:01:53.622599",
     "exception": false,
     "start_time": "2022-12-17T18:01:53.599874",
     "status": "completed"
    },
    "tags": []
   },
   "outputs": [
    {
     "data": {
      "text/plain": [
       "\"# Create folders and callbacks and fit\\ncbs = create_folders_and_callbacks(model_name, experiments_name)\\ncbs.append([tfk.callbacks.EarlyStopping(monitor='val_accuracy', mode='max', patience=patience1, restore_best_weights=True),\\n        tfk.callbacks.ReduceLROnPlateau(monitor='val_accuracy', mode='max', patience=patience_plateau, factor=lr_factor, min_lr=min_lr)])\\n\\nif noise:\\n  ds = AWGNTrain(X_train, y_train, batch_size)\\n\\n  history = model.fit(\\n      ds,\\n      batch_size = batch_size,\\n      epochs = epochs,\\n      validation_data=(X_val, y_val),\\n      callbacks = cbs,\\n      shuffle = True\\n  ).history\\n  \\nelse:\\n  # Train the model\\n  history = model.fit(\\n      x = X_train,\\n      y = y_train,\\n      batch_size = batch_size,\\n      epochs = epochs,\\n      validation_data=(X_val, y_val),\\n      callbacks = cbs,\\n      shuffle = True\\n  ).history\""
      ]
     },
     "execution_count": 33,
     "metadata": {},
     "output_type": "execute_result"
    }
   ],
   "source": [
    "\"\"\"# Create folders and callbacks and fit\n",
    "cbs = create_folders_and_callbacks(model_name, experiments_name)\n",
    "cbs.append([tfk.callbacks.EarlyStopping(monitor='val_accuracy', mode='max', patience=patience1, restore_best_weights=True),\n",
    "        tfk.callbacks.ReduceLROnPlateau(monitor='val_accuracy', mode='max', patience=patience_plateau, factor=lr_factor, min_lr=min_lr)])\n",
    "\n",
    "if noise:\n",
    "  ds = AWGNTrain(X_train, y_train, batch_size)\n",
    "\n",
    "  history = model.fit(\n",
    "      ds,\n",
    "      batch_size = batch_size,\n",
    "      epochs = epochs,\n",
    "      validation_data=(X_val, y_val),\n",
    "      callbacks = cbs,\n",
    "      shuffle = True\n",
    "  ).history\n",
    "  \n",
    "else:\n",
    "  # Train the model\n",
    "  history = model.fit(\n",
    "      x = X_train,\n",
    "      y = y_train,\n",
    "      batch_size = batch_size,\n",
    "      epochs = epochs,\n",
    "      validation_data=(X_val, y_val),\n",
    "      callbacks = cbs,\n",
    "      shuffle = True\n",
    "  ).history\"\"\""
   ]
  },
  {
   "cell_type": "code",
   "execution_count": 34,
   "id": "230964ce",
   "metadata": {
    "execution": {
     "iopub.execute_input": "2022-12-17T18:01:53.650132Z",
     "iopub.status.busy": "2022-12-17T18:01:53.649862Z",
     "iopub.status.idle": "2022-12-17T18:01:53.656366Z",
     "shell.execute_reply": "2022-12-17T18:01:53.655360Z"
    },
    "executionInfo": {
     "elapsed": 20,
     "status": "aborted",
     "timestamp": 1671270553512,
     "user": {
      "displayName": "Andrea Giuffrida",
      "userId": "01201743058689716524"
     },
     "user_tz": -60
    },
    "id": "jUUY4BTv2tfI",
    "papermill": {
     "duration": 0.022519,
     "end_time": "2022-12-17T18:01:53.658458",
     "exception": false,
     "start_time": "2022-12-17T18:01:53.635939",
     "status": "completed"
    },
    "tags": []
   },
   "outputs": [
    {
     "data": {
      "text/plain": [
       "\"best_epoch = np.argmax(history['val_accuracy'])\\nplt.figure(figsize=(17,4))\\nplt.plot(history['loss'], label='Training loss', alpha=.8, color='#ff7f0e')\\nplt.plot(history['val_loss'], label='Validation loss', alpha=.9, color='#5a9aa5')\\nplt.axvline(x=best_epoch, label='Best epoch', alpha=.3, ls='--', color='#5a9aa5')\\nplt.title('Categorical Crossentropy')\\nplt.legend()\\nplt.grid(alpha=.3)\\nplt.show()\\n\\nplt.figure(figsize=(17,4))\\nplt.plot(history['accuracy'], label='Training accuracy', alpha=.8, color='#ff7f0e')\\nplt.plot(history['val_accuracy'], label='Validation accuracy', alpha=.9, color='#5a9aa5')\\nplt.axvline(x=best_epoch, label='Best epoch', alpha=.3, ls='--', color='#5a9aa5')\\nplt.title('Accuracy')\\nplt.legend()\\nplt.grid(alpha=.3)\\nplt.show()\\n\\nplt.figure(figsize=(17,4))\\nplt.plot(history['lr'], label='Learning Rate', alpha=.8, color='#ff7f0e')\\nplt.axvline(x=best_epoch, label='Best epoch', alpha=.3, ls='--', color='#5a9aa5')\\nplt.legend()\\nplt.grid(alpha=.3)\\nplt.show()\""
      ]
     },
     "execution_count": 34,
     "metadata": {},
     "output_type": "execute_result"
    }
   ],
   "source": [
    "\"\"\"best_epoch = np.argmax(history['val_accuracy'])\n",
    "plt.figure(figsize=(17,4))\n",
    "plt.plot(history['loss'], label='Training loss', alpha=.8, color='#ff7f0e')\n",
    "plt.plot(history['val_loss'], label='Validation loss', alpha=.9, color='#5a9aa5')\n",
    "plt.axvline(x=best_epoch, label='Best epoch', alpha=.3, ls='--', color='#5a9aa5')\n",
    "plt.title('Categorical Crossentropy')\n",
    "plt.legend()\n",
    "plt.grid(alpha=.3)\n",
    "plt.show()\n",
    "\n",
    "plt.figure(figsize=(17,4))\n",
    "plt.plot(history['accuracy'], label='Training accuracy', alpha=.8, color='#ff7f0e')\n",
    "plt.plot(history['val_accuracy'], label='Validation accuracy', alpha=.9, color='#5a9aa5')\n",
    "plt.axvline(x=best_epoch, label='Best epoch', alpha=.3, ls='--', color='#5a9aa5')\n",
    "plt.title('Accuracy')\n",
    "plt.legend()\n",
    "plt.grid(alpha=.3)\n",
    "plt.show()\n",
    "\n",
    "plt.figure(figsize=(17,4))\n",
    "plt.plot(history['lr'], label='Learning Rate', alpha=.8, color='#ff7f0e')\n",
    "plt.axvline(x=best_epoch, label='Best epoch', alpha=.3, ls='--', color='#5a9aa5')\n",
    "plt.legend()\n",
    "plt.grid(alpha=.3)\n",
    "plt.show()\"\"\""
   ]
  },
  {
   "cell_type": "code",
   "execution_count": 35,
   "id": "a11c3e18",
   "metadata": {
    "execution": {
     "iopub.execute_input": "2022-12-17T18:01:53.685727Z",
     "iopub.status.busy": "2022-12-17T18:01:53.685477Z",
     "iopub.status.idle": "2022-12-17T18:01:54.073965Z",
     "shell.execute_reply": "2022-12-17T18:01:54.072977Z"
    },
    "executionInfo": {
     "elapsed": 21,
     "status": "aborted",
     "timestamp": 1671270553513,
     "user": {
      "displayName": "Andrea Giuffrida",
      "userId": "01201743058689716524"
     },
     "user_tz": -60
    },
    "id": "jB17zUlBBTY_",
    "papermill": {
     "duration": 0.4045,
     "end_time": "2022-12-17T18:01:54.076053",
     "exception": false,
     "start_time": "2022-12-17T18:01:53.671553",
     "status": "completed"
    },
    "tags": []
   },
   "outputs": [
    {
     "data": {
      "text/plain": [
       "(486, 12)"
      ]
     },
     "execution_count": 35,
     "metadata": {},
     "output_type": "execute_result"
    }
   ],
   "source": [
    "# Predict the test set with the RNN\n",
    "predictions = model.predict(X_val)\n",
    "predictions.shape"
   ]
  },
  {
   "cell_type": "code",
   "execution_count": 36,
   "id": "b986a37e",
   "metadata": {
    "execution": {
     "iopub.execute_input": "2022-12-17T18:01:54.107049Z",
     "iopub.status.busy": "2022-12-17T18:01:54.105247Z",
     "iopub.status.idle": "2022-12-17T18:01:54.115144Z",
     "shell.execute_reply": "2022-12-17T18:01:54.113936Z"
    },
    "papermill": {
     "duration": 0.027704,
     "end_time": "2022-12-17T18:01:54.117798",
     "exception": false,
     "start_time": "2022-12-17T18:01:54.090094",
     "status": "completed"
    },
    "tags": []
   },
   "outputs": [
    {
     "name": "stdout",
     "output_type": "stream",
     "text": [
      "[1 8 1 1 8 1 1 1 1 1 8 8 6 8 1 1 1 1 1 6 1 1 6 1 1 6 1 1 1 1 6 1 1 1 1 8 6\n",
      " 1 1 1 1 8 1 1 1 6 1 1 1 1 1 6 1 1 6 1 1 8 1 6 6 1 8 1 1 8 1 1 1 1 1 6 1 1\n",
      " 1 1 1 1 1 1 1 1 6 1 1 8 1 1 8 1 6 1 1 1 1 8 1 1 8 1 6 6 1 1 1 8 1 1 1 1 1\n",
      " 8 8 1 1 6 1 8 8 1 8 8 1 1 1 1 8 1 6 1 1 6 1 1 1 1 1 1 1 1 6 1 1 1 6 6 1 1\n",
      " 1 1 1 1 8 1 1 1 6 8 1 1 6 1 1 6 1 8 6 1 1 6 1 1 1 8 6 1 1 1 1 1 1 1 6 1 1\n",
      " 1 1 6 1 1 8 1 1 8 1 8 1 1 1 1 8 1 1 1 1 1 1 1 1 1 1 1 1 1 1 1 1 1 1 1 1 1\n",
      " 1 6 6 1 1 6 6 1 1 1 6 1 1 8 1 1 6 1 1 6 8 1 6 1 6 1 1 1 8 1 6 1 8 8 1 1 1\n",
      " 1 1 1 1 1 6 8 1 1 8 8 8 1 6 8 1 1 1 1 1 6 6 1 1 1 1 1 1 8 8 1 6 6 8 1 1 1\n",
      " 6 8 1 1 1 1 6 1 1 1 1 1 6 1 1 1 1 1 6 8 1 1 6 1 1 1 1 1 1 6 1 1 1 8 1 1 6\n",
      " 1 1 1 6 1 1 1 1 1 1 1 1 1 1 1 1 1 1 1 1 1 1 1 1 1 1 1 1 1 1 6 1 1 1 1 1 1\n",
      " 8 1 1 1 1 1 1 1 1 6 1 1 1 1 1 1 1 1 8 1 1 1 1 8 1 8 1 1 1 8 1 1 6 6 1 6 1\n",
      " 1 6 8 1 1 1 1 1 8 8 1 6 1 1 1 1 6 1 1 6 1 8 1 6 8 1 6 1 1 1 1 1 1 1 6 1 6\n",
      " 1 1 1 1 6 1 8 6 6 1 6 1 6 1 1 1 8 6 1 1 1 1 1 1 8 1 1 1 1 6 1 8 1 8 8 8 1\n",
      " 1 1 1 1 1]\n"
     ]
    }
   ],
   "source": [
    "print(np.argmax(predictions, axis=-1))"
   ]
  },
  {
   "cell_type": "code",
   "execution_count": 37,
   "id": "948836ae",
   "metadata": {
    "execution": {
     "iopub.execute_input": "2022-12-17T18:01:54.147379Z",
     "iopub.status.busy": "2022-12-17T18:01:54.147107Z",
     "iopub.status.idle": "2022-12-17T18:01:54.900941Z",
     "shell.execute_reply": "2022-12-17T18:01:54.899975Z"
    },
    "executionInfo": {
     "elapsed": 22,
     "status": "aborted",
     "timestamp": 1671270553515,
     "user": {
      "displayName": "Andrea Giuffrida",
      "userId": "01201743058689716524"
     },
     "user_tz": -60
    },
    "id": "6IDTgQQLBeNN",
    "papermill": {
     "duration": 0.771223,
     "end_time": "2022-12-17T18:01:54.903228",
     "exception": false,
     "start_time": "2022-12-17T18:01:54.132005",
     "status": "completed"
    },
    "tags": []
   },
   "outputs": [
    {
     "name": "stdout",
     "output_type": "stream",
     "text": [
      "Accuracy: 0.0679\n",
      "Precision: 0.0187\n",
      "Recall: 0.0987\n",
      "F1: 0.0249\n"
     ]
    },
    {
     "name": "stderr",
     "output_type": "stream",
     "text": [
      "/opt/conda/lib/python3.7/site-packages/sklearn/metrics/_classification.py:1318: UndefinedMetricWarning: Precision is ill-defined and being set to 0.0 in labels with no predicted samples. Use `zero_division` parameter to control this behavior.\n",
      "  _warn_prf(average, modifier, msg_start, len(result))\n"
     ]
    },
    {
     "data": {
      "image/png": "[encoded data removed]",
      "text/plain": [
       "<Figure size 720x576 with 2 Axes>"
      ]
     },
     "metadata": {
      "needs_background": "light"
     },
     "output_type": "display_data"
    }
   ],
   "source": [
    "# Compute the confusion matrix\n",
    "cm = confusion_matrix(np.argmax(y_val, axis=-1), np.argmax(predictions, axis=-1))\n",
    "\n",
    "# Compute the classification metrics\n",
    "accuracy = accuracy_score(np.argmax(y_val, axis=-1), np.argmax(predictions, axis=-1))\n",
    "precision = precision_score(np.argmax(y_val, axis=-1), np.argmax(predictions, axis=-1), average='macro')\n",
    "recall = recall_score(np.argmax(y_val, axis=-1), np.argmax(predictions, axis=-1), average='macro')\n",
    "f1 = f1_score(np.argmax(y_val, axis=-1), np.argmax(predictions, axis=-1), average='macro')\n",
    "print('Accuracy:',accuracy.round(4))\n",
    "print('Precision:',precision.round(4))\n",
    "print('Recall:',recall.round(4))\n",
    "print('F1:',f1.round(4))\n",
    "\n",
    "# Plot the confusion matrix\n",
    "plt.figure(figsize=(10,8))\n",
    "sns.heatmap(cm.T, cmap='Blues', xticklabels=list(label_mapping), yticklabels=list(label_mapping), annot=True)\n",
    "plt.xlabel('True labels')\n",
    "plt.ylabel('Predicted labels')\n",
    "plt.show()"
   ]
  },
  {
   "cell_type": "code",
   "execution_count": 38,
   "id": "6c6d5415",
   "metadata": {
    "execution": {
     "iopub.execute_input": "2022-12-17T18:01:54.933460Z",
     "iopub.status.busy": "2022-12-17T18:01:54.932844Z",
     "iopub.status.idle": "2022-12-17T18:01:55.164047Z",
     "shell.execute_reply": "2022-12-17T18:01:55.162910Z"
    },
    "executionInfo": {
     "elapsed": 41257,
     "status": "aborted",
     "timestamp": 1671270553515,
     "user": {
      "displayName": "Andrea Giuffrida",
      "userId": "01201743058689716524"
     },
     "user_tz": -60
    },
    "id": "GL4WLnUb1-6y",
    "papermill": {
     "duration": 0.248192,
     "end_time": "2022-12-17T18:01:55.166158",
     "exception": false,
     "start_time": "2022-12-17T18:01:54.917966",
     "status": "completed"
    },
    "tags": []
   },
   "outputs": [
    {
     "data": {
      "image/png": "[encoded data removed]",
      "text/plain": [
       "<Figure size 1512x360 with 1 Axes>"
      ]
     },
     "metadata": {
      "needs_background": "light"
     },
     "output_type": "display_data"
    }
   ],
   "source": [
    "f1s = f1_score(np.argmax(y_val, axis=-1), np.argmax(predictions, axis=-1), average=None)\n",
    "\n",
    "fig = plt.figure(figsize=(21, 5))\n",
    "plt.bar(np.arange(12), f1s, width=1, edgecolor=\"white\", tick_label=list(label_mapping))\n",
    "\n",
    "plt.show()"
   ]
  },
  {
   "cell_type": "markdown",
   "id": "828b7d49",
   "metadata": {
    "id": "THxvILUd735B",
    "papermill": {
     "duration": 0.015254,
     "end_time": "2022-12-17T18:01:55.197153",
     "exception": false,
     "start_time": "2022-12-17T18:01:55.181899",
     "status": "completed"
    },
    "tags": []
   },
   "source": [
    "# Save the model"
   ]
  },
  {
   "cell_type": "code",
   "execution_count": 39,
   "id": "c7a7bac0",
   "metadata": {
    "execution": {
     "iopub.execute_input": "2022-12-17T18:01:55.228286Z",
     "iopub.status.busy": "2022-12-17T18:01:55.227484Z",
     "iopub.status.idle": "2022-12-17T18:01:55.231540Z",
     "shell.execute_reply": "2022-12-17T18:01:55.230507Z"
    },
    "executionInfo": {
     "elapsed": 41250,
     "status": "aborted",
     "timestamp": 1671270553516,
     "user": {
      "displayName": "Andrea Giuffrida",
      "userId": "01201743058689716524"
     },
     "user_tz": -60
    },
    "id": "RXzlj3V3BMSC",
    "papermill": {
     "duration": 0.022128,
     "end_time": "2022-12-17T18:01:55.233911",
     "exception": false,
     "start_time": "2022-12-17T18:01:55.211783",
     "status": "completed"
    },
    "tags": []
   },
   "outputs": [],
   "source": [
    "#model.save(model_name)\n",
    "#model.load(model_name)"
   ]
  }
 ],
 "metadata": {
  "kernelspec": {
   "display_name": "Python 3",
   "language": "python",
   "name": "python3"
  },
  "language_info": {
   "codemirror_mode": {
    "name": "ipython",
    "version": 3
   },
   "file_extension": ".py",
   "mimetype": "text/x-python",
   "name": "python",
   "nbconvert_exporter": "python",
   "pygments_lexer": "ipython3",
   "version": "3.7.12"
  },
  "papermill": {
   "default_parameters": {},
   "duration": 84.225718,
   "end_time": "2022-12-17T18:01:58.832819",
   "environment_variables": {},
   "exception": null,
   "input_path": "__notebook__.ipynb",
   "output_path": "__notebook__.ipynb",
   "parameters": {},
   "start_time": "2022-12-17T18:00:34.607101",
   "version": "2.3.4"
  }
 },
 "nbformat": 4,
 "nbformat_minor": 5
}
